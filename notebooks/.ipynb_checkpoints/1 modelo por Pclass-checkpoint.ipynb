{
 "cells": [
  {
   "cell_type": "markdown",
   "metadata": {},
   "source": [
    "### desenvolver um modelo por Pclass"
   ]
  },
  {
   "cell_type": "code",
   "execution_count": 97,
   "metadata": {
    "collapsed": true
   },
   "outputs": [],
   "source": [
    "import pandas as pd\n",
    "from sklearn.ensemble import RandomForestClassifier\n",
    "from sklearn.tree import DecisionTreeClassifier\n",
    "from sklearn import cross_validation\n",
    "%matplotlib inline\n",
    "from sklearn.feature_selection import SelectKBest, f_classif\n",
    "import numpy as np\n",
    "from matplotlib import pyplot as plt"
   ]
  },
  {
   "cell_type": "code",
   "execution_count": 217,
   "metadata": {
    "collapsed": true
   },
   "outputs": [],
   "source": [
    "train = pd.read_csv('../data/train_final.csv')"
   ]
  },
  {
   "cell_type": "code",
   "execution_count": 6,
   "metadata": {
    "collapsed": false
   },
   "outputs": [
    {
     "data": {
      "text/html": [
       "<div>\n",
       "<table border=\"1\" class=\"dataframe\">\n",
       "  <thead>\n",
       "    <tr style=\"text-align: right;\">\n",
       "      <th></th>\n",
       "      <th>PassengerId</th>\n",
       "      <th>Survived</th>\n",
       "      <th>Pclass</th>\n",
       "      <th>Name</th>\n",
       "      <th>Sex</th>\n",
       "      <th>Age</th>\n",
       "      <th>SibSp</th>\n",
       "      <th>Parch</th>\n",
       "      <th>Ticket</th>\n",
       "      <th>Fare</th>\n",
       "      <th>...</th>\n",
       "      <th>hasTitle</th>\n",
       "      <th>FamilyName</th>\n",
       "      <th>Title</th>\n",
       "      <th>FirstName</th>\n",
       "      <th>TitleClass</th>\n",
       "      <th>FamilySize</th>\n",
       "      <th>AgeClassDesc</th>\n",
       "      <th>AgeClass</th>\n",
       "      <th>SexClass</th>\n",
       "      <th>EmbarkedClass</th>\n",
       "    </tr>\n",
       "  </thead>\n",
       "  <tbody>\n",
       "    <tr>\n",
       "      <th>0</th>\n",
       "      <td>1</td>\n",
       "      <td>0</td>\n",
       "      <td>3</td>\n",
       "      <td>Braund, Mr. Owen Harris</td>\n",
       "      <td>male</td>\n",
       "      <td>22</td>\n",
       "      <td>1</td>\n",
       "      <td>0</td>\n",
       "      <td>A/5 21171</td>\n",
       "      <td>7.2500</td>\n",
       "      <td>...</td>\n",
       "      <td>Y</td>\n",
       "      <td>Braund</td>\n",
       "      <td>Mr</td>\n",
       "      <td>Owen Harris</td>\n",
       "      <td>1</td>\n",
       "      <td>2</td>\n",
       "      <td>Adulto</td>\n",
       "      <td>2</td>\n",
       "      <td>0</td>\n",
       "      <td>0</td>\n",
       "    </tr>\n",
       "    <tr>\n",
       "      <th>1</th>\n",
       "      <td>2</td>\n",
       "      <td>1</td>\n",
       "      <td>1</td>\n",
       "      <td>Cumings, Mrs. John Bradley (Florence Briggs Th...</td>\n",
       "      <td>female</td>\n",
       "      <td>38</td>\n",
       "      <td>1</td>\n",
       "      <td>0</td>\n",
       "      <td>PC 17599</td>\n",
       "      <td>71.2833</td>\n",
       "      <td>...</td>\n",
       "      <td>Y</td>\n",
       "      <td>Cumings</td>\n",
       "      <td>Mrs</td>\n",
       "      <td>John Bradley (Florence Briggs Thayer)</td>\n",
       "      <td>3</td>\n",
       "      <td>2</td>\n",
       "      <td>Adulto</td>\n",
       "      <td>2</td>\n",
       "      <td>1</td>\n",
       "      <td>1</td>\n",
       "    </tr>\n",
       "    <tr>\n",
       "      <th>2</th>\n",
       "      <td>3</td>\n",
       "      <td>1</td>\n",
       "      <td>3</td>\n",
       "      <td>Heikkinen, Miss. Laina</td>\n",
       "      <td>female</td>\n",
       "      <td>26</td>\n",
       "      <td>0</td>\n",
       "      <td>0</td>\n",
       "      <td>STON/O2. 3101282</td>\n",
       "      <td>7.9250</td>\n",
       "      <td>...</td>\n",
       "      <td>Y</td>\n",
       "      <td>Heikkinen</td>\n",
       "      <td>Miss</td>\n",
       "      <td>Laina</td>\n",
       "      <td>2</td>\n",
       "      <td>1</td>\n",
       "      <td>Adulto</td>\n",
       "      <td>2</td>\n",
       "      <td>1</td>\n",
       "      <td>0</td>\n",
       "    </tr>\n",
       "    <tr>\n",
       "      <th>3</th>\n",
       "      <td>4</td>\n",
       "      <td>1</td>\n",
       "      <td>1</td>\n",
       "      <td>Futrelle, Mrs. Jacques Heath (Lily May Peel)</td>\n",
       "      <td>female</td>\n",
       "      <td>35</td>\n",
       "      <td>1</td>\n",
       "      <td>0</td>\n",
       "      <td>113803</td>\n",
       "      <td>53.1000</td>\n",
       "      <td>...</td>\n",
       "      <td>Y</td>\n",
       "      <td>Futrelle</td>\n",
       "      <td>Mrs</td>\n",
       "      <td>Jacques Heath (Lily May Peel)</td>\n",
       "      <td>3</td>\n",
       "      <td>2</td>\n",
       "      <td>Adulto</td>\n",
       "      <td>2</td>\n",
       "      <td>1</td>\n",
       "      <td>0</td>\n",
       "    </tr>\n",
       "    <tr>\n",
       "      <th>4</th>\n",
       "      <td>5</td>\n",
       "      <td>0</td>\n",
       "      <td>3</td>\n",
       "      <td>Allen, Mr. William Henry</td>\n",
       "      <td>male</td>\n",
       "      <td>35</td>\n",
       "      <td>0</td>\n",
       "      <td>0</td>\n",
       "      <td>373450</td>\n",
       "      <td>8.0500</td>\n",
       "      <td>...</td>\n",
       "      <td>Y</td>\n",
       "      <td>Allen</td>\n",
       "      <td>Mr</td>\n",
       "      <td>William Henry</td>\n",
       "      <td>1</td>\n",
       "      <td>1</td>\n",
       "      <td>Adulto</td>\n",
       "      <td>2</td>\n",
       "      <td>0</td>\n",
       "      <td>0</td>\n",
       "    </tr>\n",
       "  </tbody>\n",
       "</table>\n",
       "<p>5 rows × 22 columns</p>\n",
       "</div>"
      ],
      "text/plain": [
       "   PassengerId  Survived  Pclass  \\\n",
       "0            1         0       3   \n",
       "1            2         1       1   \n",
       "2            3         1       3   \n",
       "3            4         1       1   \n",
       "4            5         0       3   \n",
       "\n",
       "                                                Name     Sex  Age  SibSp  \\\n",
       "0                            Braund, Mr. Owen Harris    male   22      1   \n",
       "1  Cumings, Mrs. John Bradley (Florence Briggs Th...  female   38      1   \n",
       "2                             Heikkinen, Miss. Laina  female   26      0   \n",
       "3       Futrelle, Mrs. Jacques Heath (Lily May Peel)  female   35      1   \n",
       "4                           Allen, Mr. William Henry    male   35      0   \n",
       "\n",
       "   Parch            Ticket     Fare      ...       hasTitle FamilyName Title  \\\n",
       "0      0         A/5 21171   7.2500      ...              Y     Braund    Mr   \n",
       "1      0          PC 17599  71.2833      ...              Y    Cumings   Mrs   \n",
       "2      0  STON/O2. 3101282   7.9250      ...              Y  Heikkinen  Miss   \n",
       "3      0            113803  53.1000      ...              Y   Futrelle   Mrs   \n",
       "4      0            373450   8.0500      ...              Y      Allen    Mr   \n",
       "\n",
       "                               FirstName TitleClass FamilySize  AgeClassDesc  \\\n",
       "0                            Owen Harris          1          2        Adulto   \n",
       "1  John Bradley (Florence Briggs Thayer)          3          2        Adulto   \n",
       "2                                  Laina          2          1        Adulto   \n",
       "3          Jacques Heath (Lily May Peel)          3          2        Adulto   \n",
       "4                          William Henry          1          1        Adulto   \n",
       "\n",
       "   AgeClass SexClass  EmbarkedClass  \n",
       "0         2        0              0  \n",
       "1         2        1              1  \n",
       "2         2        1              0  \n",
       "3         2        1              0  \n",
       "4         2        0              0  \n",
       "\n",
       "[5 rows x 22 columns]"
      ]
     },
     "execution_count": 6,
     "metadata": {},
     "output_type": "execute_result"
    }
   ],
   "source": [
    "train.head()"
   ]
  },
  {
   "cell_type": "code",
   "execution_count": 7,
   "metadata": {
    "collapsed": false
   },
   "outputs": [
    {
     "data": {
      "text/plain": [
       "Index(['PassengerId', 'Survived', 'Pclass', 'Name', 'Sex', 'Age', 'SibSp',\n",
       "       'Parch', 'Ticket', 'Fare', 'Cabin', 'Embarked', 'hasTitle',\n",
       "       'FamilyName', 'Title', 'FirstName', 'TitleClass', 'FamilySize',\n",
       "       'AgeClassDesc', 'AgeClass', 'SexClass', 'EmbarkedClass'],\n",
       "      dtype='object')"
      ]
     },
     "execution_count": 7,
     "metadata": {},
     "output_type": "execute_result"
    }
   ],
   "source": [
    "train.columns"
   ]
  },
  {
   "cell_type": "code",
   "execution_count": 249,
   "metadata": {
    "collapsed": true
   },
   "outputs": [],
   "source": [
    "features_Pclass_1 = [\"AgeClass\", \"SexClass\", \"Age\"]\n",
    "features_Pclass_2 = [\"TitleClass\", \"FamilySize\", \"AgeClass\", \"SexClass\", \"Age\"]\n",
    "features_Pclass_3 = [\"TitleClass\", \"FamilySize\", \"AgeClass\", \"SexClass\", \"EmbarkedClass\", \"Age\", \"Fare\"]"
   ]
  },
  {
   "cell_type": "code",
   "execution_count": 44,
   "metadata": {
    "collapsed": false
   },
   "outputs": [
    {
     "data": {
      "text/plain": [
       "Pclass\n",
       "1    216\n",
       "2    184\n",
       "3    491\n",
       "dtype: int64"
      ]
     },
     "execution_count": 44,
     "metadata": {},
     "output_type": "execute_result"
    }
   ],
   "source": [
    "train.groupby(\"Pclass\").size()"
   ]
  },
  {
   "cell_type": "code",
   "execution_count": 61,
   "metadata": {
    "collapsed": false
   },
   "outputs": [
    {
     "data": {
      "text/plain": [
       "<matplotlib.axes._subplots.AxesSubplot at 0x66baee5fd0>"
      ]
     },
     "execution_count": 61,
     "metadata": {},
     "output_type": "execute_result"
    },
    {
     "data": {
      "image/png": "[encoded data removed]",
      "text/plain": [
       "<matplotlib.figure.Figure at 0x66c095c1d0>"
      ]
     },
     "metadata": {},
     "output_type": "display_data"
    }
   ],
   "source": [
    "train.groupby([\"Pclass\", \"Survived\", \"Sex\"]).size().unstack(1).plot(kind=\"barh\")"
   ]
  },
  {
   "cell_type": "code",
   "execution_count": 245,
   "metadata": {
    "collapsed": false
   },
   "outputs": [],
   "source": [
    "train_Pclass_1 = train[train[\"Pclass\"] == 1]\n",
    "train_Pclass_2 = train[train[\"Pclass\"] == 2]\n",
    "train_Pclass_3 = train[train[\"Pclass\"] == 3]"
   ]
  },
  {
   "cell_type": "markdown",
   "metadata": {},
   "source": [
    "## Analisando importância das features, por Pclass"
   ]
  },
  {
   "cell_type": "code",
   "execution_count": 221,
   "metadata": {
    "collapsed": false
   },
   "outputs": [
    {
     "data": {
      "text/plain": [
       "(0, 35)"
      ]
     },
     "execution_count": 221,
     "metadata": {},
     "output_type": "execute_result"
    },
    {
     "data": {
      "image/png": "[encoded data removed]",
      "text/plain": [
       "<matplotlib.figure.Figure at 0x66c258a8d0>"
      ]
     },
     "metadata": {},
     "output_type": "display_data"
    }
   ],
   "source": [
    "fig = plt.figure(figsize=(12, 6))\n",
    "ax1 = fig.add_subplot(1, 3, 1)\n",
    "ax2 = fig.add_subplot(1, 3, 2)\n",
    "ax3 = fig.add_subplot(1, 3, 3)\n",
    "\n",
    "features = [\"TitleClass\", \"FamilySize\", \"AgeClass\", \"SexClass\", \"EmbarkedClass\"]\n",
    "\n",
    "selector = SelectKBest(f_classif, k=5)\n",
    "selector.fit(train_Pclass_1[features], train_Pclass_1[\"Survived\"])\n",
    "scores = -np.log10(selector.pvalues_)\n",
    "ax1.bar(range(len(features)), scores)\n",
    "ax1.set_xticks(range(len(features)))\n",
    "ax1.set_xticklabels(features, rotation=\"vertical\")\n",
    "ax1.set_ylim([0, 35])\n",
    "\n",
    "selector = SelectKBest(f_classif, k=5)\n",
    "selector.fit(train_Pclass_2[features], train_Pclass_2[\"Survived\"])\n",
    "scores = -np.log10(selector.pvalues_)\n",
    "ax2.bar(range(len(features)), scores)\n",
    "ax2.set_xticks(range(len(features)))\n",
    "ax2.set_xticklabels(features, rotation=\"vertical\")\n",
    "ax2.set_ylim([0, 35])\n",
    "\n",
    "selector = SelectKBest(f_classif, k=5)\n",
    "selector.fit(train_Pclass_3[features], train_Pclass_3[\"Survived\"])\n",
    "scores = -np.log10(selector.pvalues_)\n",
    "ax3.bar(range(len(features)), scores)\n",
    "ax3.set_xticks(range(len(features)))\n",
    "ax3.set_xticklabels(features, rotation=\"vertical\")\n",
    "ax3.set_ylim([0, 35])"
   ]
  },
  {
   "cell_type": "code",
   "execution_count": 285,
   "metadata": {
    "collapsed": true
   },
   "outputs": [],
   "source": [
    "#rf_Pclass_1 = RandomForestClassifier(random_state=1, n_estimators=100, min_samples_split=6, min_samples_leaf=3)\n",
    "rf_Pclass_1 = DecisionTreeClassifier(random_state=1, min_samples_split=10, min_samples_leaf=8)\n",
    "rf_Pclass_2 = RandomForestClassifier(random_state=1, n_estimators=150, min_samples_split=6, min_samples_leaf=4)\n",
    "rf_Pclass_3 = RandomForestClassifier(random_state=1, n_estimators=150, min_samples_split=6, min_samples_leaf=4)"
   ]
  },
  {
   "cell_type": "code",
   "execution_count": 286,
   "metadata": {
    "collapsed": true
   },
   "outputs": [],
   "source": [
    "scores_Pclass_1 = cross_validation.cross_val_score(rf_Pclass_1, train_Pclass_1[features_Pclass_1], train_Pclass_1[\"Survived\"], cv=5)\n",
    "scores_Pclass_2 = cross_validation.cross_val_score(rf_Pclass_2, train_Pclass_2[features_Pclass_2], train_Pclass_2[\"Survived\"], cv=5)\n",
    "scores_Pclass_3 = cross_validation.cross_val_score(rf_Pclass_3, train_Pclass_3[features_Pclass_3], train_Pclass_3[\"Survived\"], cv=5)"
   ]
  },
  {
   "cell_type": "code",
   "execution_count": 287,
   "metadata": {
    "collapsed": false
   },
   "outputs": [
    {
     "data": {
      "text/plain": [
       "(0.78245243128964059, 0.91842105263157892, 0.83720372247618202)"
      ]
     },
     "execution_count": 287,
     "metadata": {},
     "output_type": "execute_result"
    }
   ],
   "source": [
    "scores_Pclass_1.mean(), scores_Pclass_2.mean(), scores_Pclass_3.mean()"
   ]
  },
  {
   "cell_type": "code",
   "execution_count": 288,
   "metadata": {
    "collapsed": false
   },
   "outputs": [
    {
     "data": {
      "text/plain": [
       "RandomForestClassifier(bootstrap=True, class_weight=None, criterion='gini',\n",
       "            max_depth=None, max_features='auto', max_leaf_nodes=None,\n",
       "            min_samples_leaf=4, min_samples_split=6,\n",
       "            min_weight_fraction_leaf=0.0, n_estimators=150, n_jobs=1,\n",
       "            oob_score=False, random_state=1, verbose=0, warm_start=False)"
      ]
     },
     "execution_count": 288,
     "metadata": {},
     "output_type": "execute_result"
    }
   ],
   "source": [
    "rf_Pclass_1.fit(train_Pclass_1[features_Pclass_1], train_Pclass_1[\"Survived\"])\n",
    "rf_Pclass_2.fit(train_Pclass_2[features_Pclass_2], train_Pclass_2[\"Survived\"])\n",
    "rf_Pclass_3.fit(train_Pclass_3[features_Pclass_3], train_Pclass_3[\"Survived\"])"
   ]
  },
  {
   "cell_type": "code",
   "execution_count": 289,
   "metadata": {
    "collapsed": true
   },
   "outputs": [],
   "source": [
    "test = pd.read_csv(\"../data/test_final.csv\")"
   ]
  },
  {
   "cell_type": "code",
   "execution_count": 290,
   "metadata": {
    "collapsed": true
   },
   "outputs": [],
   "source": [
    "test_Pclass_1 = test[test[\"Pclass\"] == 1]\n",
    "test_Pclass_2 = test[test[\"Pclass\"] == 2]\n",
    "test_Pclass_3 = test[test[\"Pclass\"] == 3]"
   ]
  },
  {
   "cell_type": "code",
   "execution_count": 291,
   "metadata": {
    "collapsed": false
   },
   "outputs": [],
   "source": [
    "prediction_Pclass_1 = rf_Pclass_1.predict(test_Pclass_1[features_Pclass_1])\n",
    "prediction_Pclass_2 = rf_Pclass_2.predict(test_Pclass_2[features_Pclass_2])\n",
    "prediction_Pclass_3 = rf_Pclass_3.predict(test_Pclass_3[features_Pclass_3])"
   ]
  },
  {
   "cell_type": "code",
   "execution_count": 292,
   "metadata": {
    "collapsed": false
   },
   "outputs": [],
   "source": [
    "submission = pd.concat([\\\n",
    "           pd.DataFrame({\"Survived\": prediction_Pclass_1, \"PassengerId\": test_Pclass_1[\"PassengerId\"]}),\\\n",
    "           pd.DataFrame({\"Survived\": prediction_Pclass_2, \"PassengerId\": test_Pclass_2[\"PassengerId\"]}),\\\n",
    "           pd.DataFrame({\"Survived\": prediction_Pclass_3, \"PassengerId\": test_Pclass_3[\"PassengerId\"]})\\\n",
    "           ])"
   ]
  },
  {
   "cell_type": "code",
   "execution_count": 293,
   "metadata": {
    "collapsed": false
   },
   "outputs": [],
   "source": [
    "submission.to_csv(\"../submissions/Pclass3 Random forest resto DecisTree - ajuste em features v4.csv\", index=False)"
   ]
  }
 ],
 "metadata": {
  "kernelspec": {
   "display_name": "Python 3",
   "language": "python",
   "name": "python3"
  },
  "language_info": {
   "codemirror_mode": {
    "name": "ipython",
    "version": 3
   },
   "file_extension": ".py",
   "mimetype": "text/x-python",
   "name": "python",
   "nbconvert_exporter": "python",
   "pygments_lexer": "ipython3",
   "version": "3.5.1"
  }
 },
 "nbformat": 4,
 "nbformat_minor": 0
}
