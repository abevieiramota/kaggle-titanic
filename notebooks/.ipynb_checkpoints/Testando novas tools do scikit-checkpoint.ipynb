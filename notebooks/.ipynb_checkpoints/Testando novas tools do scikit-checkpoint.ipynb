{
 "cells": [
  {
   "cell_type": "code",
   "execution_count": 156,
   "metadata": {
    "collapsed": false
   },
   "outputs": [],
   "source": [
    "import pandas as pd\n",
    "from sklearn.pipeline import Pipeline\n",
    "from sklearn.feature_selection import SelectKBest\n",
    "from sklearn.feature_selection import f_regression\n",
    "from sklearn.ensemble import RandomForestClassifier\n",
    "from sklearn.grid_search import GridSearchCV\n",
    "from sklearn.preprocessing import OneHotEncoder\n",
    "from sklearn.metrics import classification_report\n",
    "from sklearn.cross_validation import StratifiedKFold\n",
    "from sklearn.ensemble import VotingClassifier\n",
    "import numpy as np\n",
    "\n",
    "%matplotlib inline"
   ]
  },
  {
   "cell_type": "markdown",
   "metadata": {},
   "source": [
    "# Datasets"
   ]
  },
  {
   "cell_type": "code",
   "execution_count": 141,
   "metadata": {
    "collapsed": false
   },
   "outputs": [],
   "source": [
    "train = pd.read_csv('../data/train_final.csv')\n",
    "test = pd.read_csv('../data/test_final.csv')\n",
    "\n",
    "target_column = \"Survived\"\n",
    "id_column = \"PassengerId\"\n",
    "\n",
    "features = dict(\\\n",
    "                Pclass=True,\\\n",
    "                Fare=False,\\\n",
    "                TitleClass=True,\\\n",
    "                FamilySize=False,\\\n",
    "                AgeClass=True,\\\n",
    "                SexClass=True,\\\n",
    "                EmbarkedClass=True,\\\n",
    "                pctFamilySurvived=False,\\\n",
    "                nFamilySurvived=False,\\\n",
    "                nFamilyDied=False\n",
    "               )\n",
    "# segura esse combo de lists\n",
    "features_columns = list(list(zip(*list(features.items())))[0])\n",
    "categorical_features = list(zip(*list(features.items())))[1]\n",
    "\n",
    "train_Y = train[target_column]\n",
    "train_X = train[features_columns]\n",
    "\n",
    "test_X = test[features_columns]"
   ]
  },
  {
   "cell_type": "markdown",
   "metadata": {},
   "source": [
    "# Gerando evaluation set"
   ]
  },
  {
   "cell_type": "code",
   "execution_count": 149,
   "metadata": {
    "collapsed": false
   },
   "outputs": [],
   "source": [
    "eval_skf = StratifiedKFold(train_Y, random_state=1, n_folds=4)\n",
    "dev_ixs, eval_ixs = list(eval_skf)[0]"
   ]
  },
  {
   "cell_type": "code",
   "execution_count": 150,
   "metadata": {
    "collapsed": false
   },
   "outputs": [],
   "source": [
    "eval_X = train_X.loc[eval_ixs, :]\n",
    "eval_Y = train_Y.loc[eval_ixs]\n",
    "\n",
    "dev_X = train_X.loc[dev_ixs, :]\n",
    "dev_Y = train_Y.loc[dev_ixs]"
   ]
  },
  {
   "cell_type": "markdown",
   "metadata": {},
   "source": [
    "# treinando"
   ]
  },
  {
   "cell_type": "code",
   "execution_count": 157,
   "metadata": {
    "collapsed": false
   },
   "outputs": [
    {
     "ename": "ValueError",
     "evalue": "dictionary update sequence element #0 has length 0; 2 is required",
     "output_type": "error",
     "traceback": [
      "\u001b[1;31m---------------------------------------------------------------------------\u001b[0m",
      "\u001b[1;31mValueError\u001b[0m                                Traceback (most recent call last)",
      "\u001b[1;32m<ipython-input-157-f64e69e53a1d>\u001b[0m in \u001b[0;36m<module>\u001b[1;34m()\u001b[0m\n\u001b[0;32m      3\u001b[0m \u001b[0mrf1\u001b[0m \u001b[1;33m=\u001b[0m \u001b[0mRandomForestClassifier\u001b[0m\u001b[1;33m(\u001b[0m\u001b[0mrandom_state\u001b[0m\u001b[1;33m=\u001b[0m\u001b[1;36m1\u001b[0m\u001b[1;33m)\u001b[0m\u001b[1;33m\u001b[0m\u001b[0m\n\u001b[0;32m      4\u001b[0m \u001b[0mrf2\u001b[0m \u001b[1;33m=\u001b[0m \u001b[0mRandomForestClassifier\u001b[0m\u001b[1;33m(\u001b[0m\u001b[0mrandom_state\u001b[0m\u001b[1;33m=\u001b[0m\u001b[1;36m1\u001b[0m\u001b[1;33m)\u001b[0m\u001b[1;33m\u001b[0m\u001b[0m\n\u001b[1;32m----> 5\u001b[1;33m \u001b[0mvoting\u001b[0m \u001b[1;33m=\u001b[0m \u001b[0mVotingClassifier\u001b[0m\u001b[1;33m(\u001b[0m\u001b[1;33m[\u001b[0m\u001b[0mrf1\u001b[0m\u001b[1;33m,\u001b[0m \u001b[0mrf2\u001b[0m\u001b[1;33m]\u001b[0m\u001b[1;33m)\u001b[0m\u001b[1;33m\u001b[0m\u001b[0m\n\u001b[0m\u001b[0;32m      6\u001b[0m \u001b[1;33m\u001b[0m\u001b[0m\n\u001b[0;32m      7\u001b[0m \u001b[0mskf\u001b[0m \u001b[1;33m=\u001b[0m \u001b[0mStratifiedKFold\u001b[0m\u001b[1;33m(\u001b[0m\u001b[0mdev_Y\u001b[0m\u001b[1;33m,\u001b[0m \u001b[0mrandom_state\u001b[0m\u001b[1;33m=\u001b[0m\u001b[1;36m1\u001b[0m\u001b[1;33m)\u001b[0m\u001b[1;33m\u001b[0m\u001b[0m\n",
      "\u001b[1;32mC:\\Users\\abevieira\\Anaconda3\\lib\\site-packages\\sklearn\\ensemble\\voting_classifier.py\u001b[0m in \u001b[0;36m__init__\u001b[1;34m(self, estimators, voting, weights)\u001b[0m\n\u001b[0;32m     85\u001b[0m \u001b[1;33m\u001b[0m\u001b[0m\n\u001b[0;32m     86\u001b[0m         \u001b[0mself\u001b[0m\u001b[1;33m.\u001b[0m\u001b[0mestimators\u001b[0m \u001b[1;33m=\u001b[0m \u001b[0mestimators\u001b[0m\u001b[1;33m\u001b[0m\u001b[0m\n\u001b[1;32m---> 87\u001b[1;33m         \u001b[0mself\u001b[0m\u001b[1;33m.\u001b[0m\u001b[0mnamed_estimators\u001b[0m \u001b[1;33m=\u001b[0m \u001b[0mdict\u001b[0m\u001b[1;33m(\u001b[0m\u001b[0mestimators\u001b[0m\u001b[1;33m)\u001b[0m\u001b[1;33m\u001b[0m\u001b[0m\n\u001b[0m\u001b[0;32m     88\u001b[0m         \u001b[0mself\u001b[0m\u001b[1;33m.\u001b[0m\u001b[0mvoting\u001b[0m \u001b[1;33m=\u001b[0m \u001b[0mvoting\u001b[0m\u001b[1;33m\u001b[0m\u001b[0m\n\u001b[0;32m     89\u001b[0m         \u001b[0mself\u001b[0m\u001b[1;33m.\u001b[0m\u001b[0mweights\u001b[0m \u001b[1;33m=\u001b[0m \u001b[0mweights\u001b[0m\u001b[1;33m\u001b[0m\u001b[0m\n",
      "\u001b[1;31mValueError\u001b[0m: dictionary update sequence element #0 has length 0; 2 is required"
     ]
    }
   ],
   "source": [
    "enc = OneHotEncoder(sparse=False, categorical_features=categorical_features)\n",
    "anova_filter = SelectKBest(f_regression, k=10)\n",
    "rf1 = RandomForestClassifier(random_state=1)\n",
    "rf2 = RandomForestClassifier(random_state=1)\n",
    "voting = VotingClassifier([(\"rf1\", rf1), (\"rf2\", rf2)])\n",
    "\n",
    "skf = StratifiedKFold(dev_Y, random_state=1)\n",
    "\n",
    "anova_rf = Pipeline([\\\n",
    "                     ('hot', enc),\n",
    "                     ('anova', anova_filter),\\\n",
    "                     ('voting', voting)])\n",
    "\n",
    "param_grid = {\"rf1__n_estimators\": [100],\\\n",
    "         \"rf1__min_samples_split\": [10],\\\n",
    "         \"rf1__min_samples_leaf\": [10],\\\n",
    "         \"rf1__criterion\": [\"entropy\"],\\\n",
    "         \"rf2__n_estimators\": [10, 50],\\\n",
    "         \"rf2__min_samples_split\": [3, 5],\\\n",
    "         \"rf2__min_samples_leaf\": [3, 5],\\\n",
    "         \"rf2__criterion\": [\"gini\"],\\\n",
    "             }\n",
    "\n",
    "\n",
    "cv = GridSearchCV(anova_rf, param_grid=param_grid, cv=skf)\n",
    "\n",
    "cv.fit(dev_X, dev_Y)"
   ]
  },
  {
   "cell_type": "markdown",
   "metadata": {},
   "source": [
    "# analisando desempenho no evaluation set"
   ]
  },
  {
   "cell_type": "code",
   "execution_count": 153,
   "metadata": {
    "collapsed": false
   },
   "outputs": [
    {
     "name": "stdout",
     "output_type": "stream",
     "text": [
      "             precision    recall  f1-score   support\n",
      "\n",
      "          0       0.98      0.97      0.97       138\n",
      "          1       0.95      0.97      0.96        86\n",
      "\n",
      "avg / total       0.97      0.97      0.97       224\n",
      "\n"
     ]
    }
   ],
   "source": [
    "print(classification_report(eval_Y, cv.predict(eval_X)))"
   ]
  },
  {
   "cell_type": "markdown",
   "metadata": {},
   "source": [
    "# predizendo"
   ]
  },
  {
   "cell_type": "code",
   "execution_count": 154,
   "metadata": {
    "collapsed": false
   },
   "outputs": [
    {
     "data": {
      "text/plain": [
       "GridSearchCV(cv=sklearn.cross_validation.StratifiedKFold(labels=[0 0 ..., 0 0], n_folds=3, shuffle=False, random_state=1),\n",
       "       error_score='raise',\n",
       "       estimator=Pipeline(steps=[('hot', OneHotEncoder(categorical_features=(False, True, True, False, False, False, True, True, False, True),\n",
       "       dtype=<class 'float'>, handle_unknown='error', n_values='auto',\n",
       "       sparse=False)), ('anova', SelectKBest(k=10, score_func=<function f_regression at 0x0000001B67477EA0>)), (...estimators=10, n_jobs=1,\n",
       "            oob_score=False, random_state=1, verbose=0, warm_start=False))]),\n",
       "       fit_params={}, iid=True, n_jobs=1,\n",
       "       param_grid={'rf__criterion': ['gini', 'entropy'], 'rf__min_samples_split': [3, 5, 10], 'rf__n_estimators': [50, 100], 'rf__min_samples_leaf': [3, 5, 10], 'rf__class_weight': [{0: 1, 1: 1}, {0: 4, 1: 1}]},\n",
       "       pre_dispatch='2*n_jobs', refit=True, scoring=None, verbose=0)"
      ]
     },
     "execution_count": 154,
     "metadata": {},
     "output_type": "execute_result"
    }
   ],
   "source": [
    "cv.fit(train_X, train_Y)"
   ]
  },
  {
   "cell_type": "code",
   "execution_count": 155,
   "metadata": {
    "collapsed": true
   },
   "outputs": [],
   "source": [
    "predictions = cv.predict(test_X)\n",
    "\n",
    "submission = pd.DataFrame({target_column: predictions, id_column: test[id_column]})\n",
    "\n",
    "submission.to_csv(\"../submissions/Testando algumas tools do scikit v6.csv\", index=False)"
   ]
  },
  {
   "cell_type": "code",
   "execution_count": null,
   "metadata": {
    "collapsed": true
   },
   "outputs": [],
   "source": []
  }
 ],
 "metadata": {
  "kernelspec": {
   "display_name": "Python 3",
   "language": "python",
   "name": "python3"
  },
  "language_info": {
   "codemirror_mode": {
    "name": "ipython",
    "version": 3
   },
   "file_extension": ".py",
   "mimetype": "text/x-python",
   "name": "python",
   "nbconvert_exporter": "python",
   "pygments_lexer": "ipython3",
   "version": "3.5.1"
  }
 },
 "nbformat": 4,
 "nbformat_minor": 0
}
