{
 "cells": [
  {
   "cell_type": "code",
   "execution_count": 57,
   "metadata": {
    "collapsed": true
   },
   "outputs": [],
   "source": [
    "import pandas as pd\n",
    "from sklearn.pipeline import Pipeline\n",
    "from sklearn.feature_selection import SelectKBest\n",
    "from sklearn.feature_selection import f_regression\n",
    "from sklearn.ensemble import RandomForestClassifier\n",
    "from sklearn.grid_search import GridSearchCV\n",
    "from sklearn.preprocessing import OneHotEncoder\n",
    "import numpy as np"
   ]
  },
  {
   "cell_type": "code",
   "execution_count": 65,
   "metadata": {
    "collapsed": true
   },
   "outputs": [],
   "source": [
    "train = pd.read_csv('../data/train_final.csv')"
   ]
  },
  {
   "cell_type": "code",
   "execution_count": 143,
   "metadata": {
    "collapsed": true
   },
   "outputs": [],
   "source": [
    "train = pd.read_csv('../data/train_final.csv')\n",
    "test = pd.read_csv('../data/test_final.csv')\n",
    "\n",
    "target_column = \"Survived\"\n",
    "id_column = \"PassengerId\"\n",
    "features_to_enc = [\"Pclass\", \"AgeClass\", \"SexClass\", \"EmbarkedClass\"]\n",
    "\n",
    "train_Y = train[target_column]\n",
    "train_X = train.drop([target_column, id_column], axis=1)\n",
    "train_X_features_to_enc = train[features_to_enc]\n",
    "train_X = train.drop(features_to_enc, axis=1)\n",
    "\n",
    "test_PassengerId = test[id_column]\n",
    "test_X = train.drop([target_column, id_column], axis=1)"
   ]
  },
  {
   "cell_type": "code",
   "execution_count": 145,
   "metadata": {
    "collapsed": false
   },
   "outputs": [],
   "source": [
    "enc = OneHotEncoder(sparse=False)\n",
    "train_X_features_encoded = enc.fit_transform(train_X_features_to_enc)"
   ]
  },
  {
   "cell_type": "code",
   "execution_count": 146,
   "metadata": {
    "collapsed": false
   },
   "outputs": [
    {
     "data": {
      "text/plain": [
       "array([[ 0.,  0.,  1., ...,  1.,  0.,  0.],\n",
       "       [ 1.,  0.,  0., ...,  0.,  1.,  0.],\n",
       "       [ 0.,  0.,  1., ...,  1.,  0.,  0.],\n",
       "       ..., \n",
       "       [ 0.,  0.,  1., ...,  1.,  0.,  0.],\n",
       "       [ 0.,  0.,  1., ...,  1.,  0.,  0.],\n",
       "       [ 0.,  0.,  1., ...,  1.,  0.,  0.]])"
      ]
     },
     "execution_count": 146,
     "metadata": {},
     "output_type": "execute_result"
    }
   ],
   "source": [
    "train_X_features_encoded"
   ]
  },
  {
   "cell_type": "code",
   "execution_count": 126,
   "metadata": {
    "collapsed": false
   },
   "outputs": [
    {
     "data": {
      "text/plain": [
       "array([[ 0.,  0.,  1., ...,  1.,  0.,  0.],\n",
       "       [ 1.,  0.,  0., ...,  0.,  1.,  0.],\n",
       "       [ 0.,  0.,  1., ...,  1.,  0.,  0.],\n",
       "       ..., \n",
       "       [ 0.,  0.,  1., ...,  1.,  0.,  0.],\n",
       "       [ 0.,  0.,  1., ...,  1.,  0.,  0.],\n",
       "       [ 0.,  0.,  1., ...,  1.,  0.,  0.]])"
      ]
     },
     "execution_count": 126,
     "metadata": {},
     "output_type": "execute_result"
    }
   ],
   "source": [
    "train_X_features_encoded."
   ]
  },
  {
   "cell_type": "code",
   "execution_count": 123,
   "metadata": {
    "collapsed": false
   },
   "outputs": [
    {
     "ename": "TypeError",
     "evalue": "merge() missing 1 required positional argument: 'right'",
     "output_type": "error",
     "traceback": [
      "\u001b[1;31m---------------------------------------------------------------------------\u001b[0m",
      "\u001b[1;31mTypeError\u001b[0m                                 Traceback (most recent call last)",
      "\u001b[1;32m<ipython-input-123-a9792a0beaae>\u001b[0m in \u001b[0;36m<module>\u001b[1;34m()\u001b[0m\n\u001b[1;32m----> 1\u001b[1;33m \u001b[0mpd\u001b[0m\u001b[1;33m.\u001b[0m\u001b[0mmerge\u001b[0m\u001b[1;33m(\u001b[0m\u001b[1;33m[\u001b[0m\u001b[0mtrain_X\u001b[0m\u001b[1;33m,\u001b[0m \u001b[0mtrain_X_features_encoded\u001b[0m\u001b[1;33m]\u001b[0m\u001b[1;33m)\u001b[0m\u001b[1;33m\u001b[0m\u001b[0m\n\u001b[0m",
      "\u001b[1;31mTypeError\u001b[0m: merge() missing 1 required positional argument: 'right'"
     ]
    }
   ],
   "source": [
    "pd.merge([train_X, train_X_features_encoded])"
   ]
  },
  {
   "cell_type": "markdown",
   "metadata": {},
   "source": [
    "# treinando"
   ]
  },
  {
   "cell_type": "code",
   "execution_count": 48,
   "metadata": {
    "collapsed": false
   },
   "outputs": [
    {
     "data": {
      "text/plain": [
       "GridSearchCV(cv=None, error_score='raise',\n",
       "       estimator=Pipeline(steps=[('anova', SelectKBest(k=5, score_func=<function f_regression at 0x00000017171150D0>)), ('rf', RandomForestClassifier(bootstrap=True, class_weight=None, criterion='gini',\n",
       "            max_depth=None, max_features='auto', max_leaf_nodes=None,\n",
       "            min_samples_leaf=1, min_samples_split=2,\n",
       "            min_weight_fraction_leaf=0.0, n_estimators=10, n_jobs=1,\n",
       "            oob_score=False, random_state=None, verbose=0,\n",
       "            warm_start=False))]),\n",
       "       fit_params={}, iid=True, n_jobs=1,\n",
       "       param_grid={'rf__criterion': ['gini', 'entropy'], 'rf__n_estimators': [10, 50, 100, 400, 1000], 'rf__min_samples_leaf': [3, 5, 10], 'rf__class_weight': [{0: 1, 1: 1}, {0: 2, 1: 1}, {0: 4, 1: 1}], 'rf__min_samples_split': [3, 5, 10]},\n",
       "       pre_dispatch='2*n_jobs', refit=True, scoring=None, verbose=0)"
      ]
     },
     "execution_count": 48,
     "metadata": {},
     "output_type": "execute_result"
    }
   ],
   "source": [
    "anova_filter = SelectKBest(f_regression, k=5)\n",
    "rf = RandomForestClassifier()\n",
    "\n",
    "anova_rf = Pipeline([('anova', anova_filter), ('rf', rf)])\n",
    "\n",
    "param_grid = {\"rf__n_estimators\": [10, 50, 100, 400, 1000],\\\n",
    "         \"rf__min_samples_split\": [3, 5, 10],\\\n",
    "         \"rf__min_samples_leaf\": [3, 5, 10],\\\n",
    "         \"rf__criterion\": [\"gini\", \"entropy\"],\\\n",
    "         \"rf__class_weight\": [{0:1, 1:1}, {0:2, 1:1}, {0:4, 1:1}]}\n",
    "\n",
    "\n",
    "cv = GridSearchCV(anova_rf, param_grid=param_grid)\n",
    "\n",
    "cv.fit(train_X, train_Y)"
   ]
  },
  {
   "cell_type": "markdown",
   "metadata": {},
   "source": [
    "# executando no test"
   ]
  },
  {
   "cell_type": "code",
   "execution_count": 50,
   "metadata": {
    "collapsed": false
   },
   "outputs": [],
   "source": [
    "test_X = test.select_dtypes(exclude=['object'])"
   ]
  },
  {
   "cell_type": "code",
   "execution_count": 51,
   "metadata": {
    "collapsed": true
   },
   "outputs": [],
   "source": [
    "predictions = cv.predict(test_X)\n",
    "\n",
    "submission = pd.DataFrame({\"Survived\": predictions, \"PassengerId\": test[\"PassengerId\"]})\n",
    "\n",
    "submission.to_csv(\"../submissions/Testando algumas tools do scikit.csv\", index=False)"
   ]
  },
  {
   "cell_type": "code",
   "execution_count": null,
   "metadata": {
    "collapsed": true
   },
   "outputs": [],
   "source": []
  }
 ],
 "metadata": {
  "kernelspec": {
   "display_name": "Python 3",
   "language": "python",
   "name": "python3"
  },
  "language_info": {
   "codemirror_mode": {
    "name": "ipython",
    "version": 3
   },
   "file_extension": ".py",
   "mimetype": "text/x-python",
   "name": "python",
   "nbconvert_exporter": "python",
   "pygments_lexer": "ipython3",
   "version": "3.5.1"
  }
 },
 "nbformat": 4,
 "nbformat_minor": 0
}
