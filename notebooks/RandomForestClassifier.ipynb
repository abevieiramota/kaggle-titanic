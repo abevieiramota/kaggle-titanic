{
 "cells": [
  {
   "cell_type": "code",
   "execution_count": 14,
   "metadata": {
    "collapsed": true
   },
   "outputs": [],
   "source": [
    "import pandas as pd\n",
    "from sklearn.ensemble import RandomForestClassifier\n",
    "from sklearn.grid_search import GridSearchCV\n",
    "from sklearn.cross_validation import StratifiedKFold\n",
    "from sklearn.metrics import classification_report"
   ]
  },
  {
   "cell_type": "code",
   "execution_count": 126,
   "metadata": {
    "collapsed": true
   },
   "outputs": [],
   "source": [
    "train = pd.read_csv('../data/train.csv', index_col='PassengerId')\n",
    "test = pd.read_csv('../data/test.csv', index_col='PassengerId')"
   ]
  },
  {
   "cell_type": "code",
   "execution_count": 127,
   "metadata": {
    "collapsed": true
   },
   "outputs": [],
   "source": [
    "features = ['Pclass', 'Age', 'SibSp', 'Parch', 'Fare', 'Sex']"
   ]
  },
  {
   "cell_type": "code",
   "execution_count": 128,
   "metadata": {
    "collapsed": false
   },
   "outputs": [],
   "source": [
    "age_imputation = train.Age.mean()\n",
    "fare_imputation = train.Fare.mean()\n",
    "\n",
    "# train set\n",
    "train.Age.fillna(age_imputation, inplace=True)\n",
    "\n",
    "train_X = pd.get_dummies(train[features])\n",
    "train_Y = train.Survived\n",
    "\n",
    "# test set\n",
    "test.Age.fillna(age_imputation, inplace=True)\n",
    "test.Fare.fillna(fare_imputation, inplace=True)\n",
    "\n",
    "test_X = pd.get_dummies(test[features])"
   ]
  },
  {
   "cell_type": "code",
   "execution_count": 64,
   "metadata": {
    "collapsed": false
   },
   "outputs": [
    {
     "data": {
      "text/plain": [
       "GridSearchCV(cv=None, error_score='raise',\n",
       "       estimator=RandomForestClassifier(bootstrap=True, class_weight=None, criterion='gini',\n",
       "            max_depth=None, max_features='auto', max_leaf_nodes=None,\n",
       "            min_samples_leaf=1, min_samples_split=2,\n",
       "            min_weight_fraction_leaf=0.0, n_estimators=10, n_jobs=-1,\n",
       "            oob_score=False, random_state=44, verbose=0, warm_start=False),\n",
       "       fit_params={}, iid=True, n_jobs=1,\n",
       "       param_grid={'n_estimators': [500, 1000], 'min_samples_split': [4, 8], 'max_features': [None, 'auto']},\n",
       "       pre_dispatch='2*n_jobs', refit=True, scoring=None, verbose=0)"
      ]
     },
     "execution_count": 64,
     "metadata": {},
     "output_type": "execute_result"
    }
   ],
   "source": [
    "rf_12 = RandomForestClassifier(random_state=55, n_jobs=-1)\n",
    "rf_3 = RandomForestClassifier(random_state=44, n_jobs=-1)\n",
    "\n",
    "pg_12 = {'n_estimators': [100, 250],\n",
    "         'min_samples_split': [4, 8], \n",
    "         'max_features': [None, 'auto']}\n",
    "\n",
    "pg_3 = {'n_estimators': [500, 1000],\n",
    "        'min_samples_split': [4, 8], \n",
    "        'max_features': [None, 'auto']}\n",
    "\n",
    "cv_12 = GridSearchCV(rf_12, pg_12)\n",
    "cv_3 = GridSearchCV(rf_3, pg_3)\n",
    "\n",
    "is_Pclass_12 = train_X.Pclass.isin([1, 2])\n",
    "is_Pclass_3 = (train_X.Pclass == 3)\n",
    "train_X_12 = train_X[is_Pclass_12]\n",
    "train_X_3 = train_X[is_Pclass_3]\n",
    "train_Y_12 = train_Y[is_Pclass_12]\n",
    "train_Y_3 = train_Y[is_Pclass_3]\n",
    "\n",
    "cv_12.fit(train_X_12, train_Y_12)\n",
    "cv_3.fit(train_X_3, train_Y_3)"
   ]
  },
  {
   "cell_type": "code",
   "execution_count": 68,
   "metadata": {
    "collapsed": true
   },
   "outputs": [],
   "source": [
    "pred_train_12 = cv_12.predict(train_X_12)\n",
    "pred_train_3 = cv_3.predict(train_X_3)"
   ]
  },
  {
   "cell_type": "code",
   "execution_count": 93,
   "metadata": {
    "collapsed": false
   },
   "outputs": [],
   "source": [
    "result_12 = pd.DataFrame({'PassengerId': train[is_Pclass_12].index, 'Survived': pred_train_12})\n",
    "result_12.set_index(['PassengerId'], inplace=True)\n",
    "result_3 = pd.DataFrame({'PassengerId': train[is_Pclass_3].index, 'Survived': pred_train_3})\n",
    "result_3.set_index(['PassengerId'], inplace=True)"
   ]
  },
  {
   "cell_type": "code",
   "execution_count": 109,
   "metadata": {
    "collapsed": true
   },
   "outputs": [],
   "source": [
    "result = pd.concat([result_12, result_3])"
   ]
  },
  {
   "cell_type": "code",
   "execution_count": 111,
   "metadata": {
    "collapsed": false
   },
   "outputs": [],
   "source": [
    "result['train_Y'] = train_Y"
   ]
  },
  {
   "cell_type": "code",
   "execution_count": 114,
   "metadata": {
    "collapsed": false
   },
   "outputs": [
    {
     "name": "stdout",
     "output_type": "stream",
     "text": [
      "             precision    recall  f1-score   support\n",
      "\n",
      "          0       0.92      0.97      0.94       549\n",
      "          1       0.94      0.86      0.90       342\n",
      "\n",
      "avg / total       0.93      0.92      0.92       891\n",
      "\n"
     ]
    }
   ],
   "source": [
    "print(classification_report(result.train_Y, result.Survived))"
   ]
  },
  {
   "cell_type": "markdown",
   "metadata": {},
   "source": [
    "## Submission"
   ]
  },
  {
   "cell_type": "code",
   "execution_count": 129,
   "metadata": {
    "collapsed": true
   },
   "outputs": [],
   "source": [
    "is_Pclass_12 = test.Pclass.isin([1, 2])\n",
    "is_Pclass_3 = (test.Pclass == 3)\n",
    "\n",
    "test_X_12 = test_X[is_Pclass_12]\n",
    "test_X_3 = test_X[is_Pclass_3]"
   ]
  },
  {
   "cell_type": "code",
   "execution_count": 130,
   "metadata": {
    "collapsed": true
   },
   "outputs": [],
   "source": [
    "pred_test_12 = cv_12.predict(test_X_12)\n",
    "pred_test_3 = cv_3.predict(test_X_3)"
   ]
  },
  {
   "cell_type": "code",
   "execution_count": 131,
   "metadata": {
    "collapsed": false
   },
   "outputs": [],
   "source": [
    "result_12 = pd.DataFrame({'PassengerId': test[is_Pclass_12].index, 'Survived': pred_test_12})\n",
    "result_12.set_index(['PassengerId'], inplace=True)\n",
    "result_3 = pd.DataFrame({'PassengerId': test[is_Pclass_3].index, 'Survived': pred_test_3})\n",
    "result_3.set_index(['PassengerId'], inplace=True)"
   ]
  },
  {
   "cell_type": "code",
   "execution_count": 132,
   "metadata": {
    "collapsed": true
   },
   "outputs": [],
   "source": [
    "result = pd.concat([result_12, result_3])"
   ]
  },
  {
   "cell_type": "code",
   "execution_count": 134,
   "metadata": {
    "collapsed": false
   },
   "outputs": [],
   "source": [
    "result.to_csv('../submissions/Simples3.csv')"
   ]
  },
  {
   "cell_type": "code",
   "execution_count": null,
   "metadata": {
    "collapsed": true
   },
   "outputs": [],
   "source": []
  }
 ],
 "metadata": {
  "kernelspec": {
   "display_name": "Python 3",
   "language": "python",
   "name": "python3"
  },
  "language_info": {
   "codemirror_mode": {
    "name": "ipython",
    "version": 3
   },
   "file_extension": ".py",
   "mimetype": "text/x-python",
   "name": "python",
   "nbconvert_exporter": "python",
   "pygments_lexer": "ipython3",
   "version": "3.5.1"
  }
 },
 "nbformat": 4,
 "nbformat_minor": 0
}
