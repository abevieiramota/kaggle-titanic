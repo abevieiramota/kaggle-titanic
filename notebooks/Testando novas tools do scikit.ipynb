{
 "cells": [
  {
   "cell_type": "code",
   "execution_count": 193,
   "metadata": {
    "collapsed": false
   },
   "outputs": [],
   "source": [
    "import pandas as pd\n",
    "from sklearn.pipeline import Pipeline\n",
    "from sklearn.feature_selection import SelectKBest\n",
    "from sklearn.feature_selection import f_regression\n",
    "from sklearn.ensemble import RandomForestClassifier\n",
    "from sklearn.grid_search import GridSearchCV\n",
    "from sklearn.preprocessing import OneHotEncoder\n",
    "from sklearn.metrics import classification_report\n",
    "import numpy as np"
   ]
  },
  {
   "cell_type": "code",
   "execution_count": 185,
   "metadata": {
    "collapsed": true
   },
   "outputs": [],
   "source": [
    "train = pd.read_csv('../data/train_final.csv')\n",
    "test = pd.read_csv('../data/test_final.csv')\n",
    "\n",
    "target_column = \"Survived\"\n",
    "id_column = \"PassengerId\"\n",
    "\n",
    "features = [\"Pclass\", \"Fare\", \"TitleClass\", \"FamilySize\", \"AgeClass\", \"SexClass\", \"EmbarkedClass\", \"pctSurvived\"]\n",
    "\n",
    "train_Y = train[target_column]\n",
    "train_X = train[features]\n",
    "\n",
    "test_X = test[features]"
   ]
  },
  {
   "cell_type": "markdown",
   "metadata": {},
   "source": [
    "# treinando"
   ]
  },
  {
   "cell_type": "code",
   "execution_count": 187,
   "metadata": {
    "collapsed": false
   },
   "outputs": [
    {
     "data": {
      "text/plain": [
       "GridSearchCV(cv=None, error_score='raise',\n",
       "       estimator=Pipeline(steps=[('hot', OneHotEncoder(categorical_features=array([ True, False,  True, False,  True,  True,  True, False], dtype=bool),\n",
       "       dtype=<class 'float'>, handle_unknown='error', n_values='auto',\n",
       "       sparse=False)), ('anova', SelectKBest(k=10, score_func=<function f_regression at 0x000000171711...n_jobs=1,\n",
       "            oob_score=False, random_state=None, verbose=0,\n",
       "            warm_start=False))]),\n",
       "       fit_params={}, iid=True, n_jobs=1,\n",
       "       param_grid={'rf__criterion': ['gini', 'entropy'], 'rf__n_estimators': [10, 50, 100, 400], 'rf__min_samples_leaf': [3, 5, 10], 'rf__class_weight': [{0: 1, 1: 1}, {0: 4, 1: 1}], 'rf__min_samples_split': [3, 5, 10]},\n",
       "       pre_dispatch='2*n_jobs', refit=True, scoring=None, verbose=0)"
      ]
     },
     "execution_count": 187,
     "metadata": {},
     "output_type": "execute_result"
    }
   ],
   "source": [
    "anova_filter = SelectKBest(f_regression, k=10)\n",
    "rf = RandomForestClassifier()\n",
    "enc = OneHotEncoder(sparse=False, categorical_features=categorical_columns)\n",
    "\n",
    "anova_rf = Pipeline([\\\n",
    "                     ('hot', enc),\n",
    "                     ('anova', anova_filter),\\\n",
    "                     ('rf', rf)])\n",
    "\n",
    "param_grid = {\"rf__n_estimators\": [10, 50, 100, 400],\\\n",
    "         \"rf__min_samples_split\": [3, 5, 10],\\\n",
    "         \"rf__min_samples_leaf\": [3, 5, 10],\\\n",
    "         \"rf__criterion\": [\"gini\", \"entropy\"],\\\n",
    "         \"rf__class_weight\": [{0:1, 1:1}, {0:4, 1:1}]}\n",
    "\n",
    "\n",
    "cv = GridSearchCV(anova_rf, param_grid=param_grid)\n",
    "\n",
    "cv.fit(train_X, train_Y)"
   ]
  },
  {
   "cell_type": "markdown",
   "metadata": {},
   "source": [
    "# analisando desempenho no train set"
   ]
  },
  {
   "cell_type": "code",
   "execution_count": 196,
   "metadata": {
    "collapsed": false
   },
   "outputs": [
    {
     "name": "stdout",
     "output_type": "stream",
     "text": [
      "             precision    recall  f1-score   support\n",
      "\n",
      "          0       0.95      0.98      0.96       549\n",
      "          1       0.97      0.91      0.94       342\n",
      "\n",
      "avg / total       0.96      0.96      0.95       891\n",
      "\n"
     ]
    }
   ],
   "source": [
    "print(classification_report(train[\"Survived\"], cv.predict(train_X)))"
   ]
  },
  {
   "cell_type": "markdown",
   "metadata": {},
   "source": [
    "# predizendo"
   ]
  },
  {
   "cell_type": "code",
   "execution_count": 197,
   "metadata": {
    "collapsed": true
   },
   "outputs": [],
   "source": [
    "predictions = cv.predict(test_X)\n",
    "\n",
    "submission = pd.DataFrame({target_column: predictions, id_column: test[id_column]})\n",
    "\n",
    "submission.to_csv(\"../submissions/Testando algumas tools do scikit.csv\", index=False)"
   ]
  },
  {
   "cell_type": "code",
   "execution_count": null,
   "metadata": {
    "collapsed": true
   },
   "outputs": [],
   "source": []
  }
 ],
 "metadata": {
  "kernelspec": {
   "display_name": "Python 3",
   "language": "python",
   "name": "python3"
  },
  "language_info": {
   "codemirror_mode": {
    "name": "ipython",
    "version": 3
   },
   "file_extension": ".py",
   "mimetype": "text/x-python",
   "name": "python",
   "nbconvert_exporter": "python",
   "pygments_lexer": "ipython3",
   "version": "3.5.1"
  }
 },
 "nbformat": 4,
 "nbformat_minor": 0
}
