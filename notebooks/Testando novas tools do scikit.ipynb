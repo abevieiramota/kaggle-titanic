{
 "cells": [
  {
   "cell_type": "code",
   "execution_count": 1,
   "metadata": {
    "collapsed": false
   },
   "outputs": [],
   "source": [
    "import pandas as pd\n",
    "from sklearn.pipeline import Pipeline\n",
    "from sklearn.feature_selection import SelectKBest\n",
    "from sklearn.feature_selection import f_regression\n",
    "from sklearn.ensemble import RandomForestClassifier\n",
    "from sklearn.grid_search import GridSearchCV\n",
    "from sklearn.preprocessing import OneHotEncoder\n",
    "from sklearn.metrics import classification_report\n",
    "from sklearn.cross_validation import StratifiedKFold\n",
    "from sklearn.ensemble import VotingClassifier\n",
    "from sklearn.ensemble import GradientBoostingClassifier\n",
    "import numpy as np\n",
    "\n",
    "%matplotlib inline"
   ]
  },
  {
   "cell_type": "markdown",
   "metadata": {},
   "source": [
    "# Datasets"
   ]
  },
  {
   "cell_type": "code",
   "execution_count": 2,
   "metadata": {
    "collapsed": true
   },
   "outputs": [],
   "source": [
    "train = pd.read_csv('../data/train_final.csv')"
   ]
  },
  {
   "cell_type": "code",
   "execution_count": 34,
   "metadata": {
    "collapsed": false
   },
   "outputs": [],
   "source": [
    "train = pd.read_csv('../data/train_final.csv')\n",
    "test = pd.read_csv('../data/test_final.csv')\n",
    "\n",
    "target_column = \"Survived\"\n",
    "id_column = \"PassengerId\"\n",
    "\n",
    "features = dict(\\\n",
    "                Pclass=True,\\\n",
    "                Sex=True,\\\n",
    "                AgeImputedByPclassAndSex=False,\\\n",
    "                SibSp=False,\\\n",
    "                Parch=False,\\\n",
    "                Fare=False,\\\n",
    "                FamilySize=False,\\\n",
    "                EmbarkedImputedByPclassAndSex=True,\\\n",
    "                #Title=True,\\ -- removido -> imputar?\n",
    "                NDiedPerFamilyNamePclass=False,\\\n",
    "                NSurvivedPerFamilyNamePclass=False,\\\n",
    "                DiffSurvivedDiedPerFamilyNamePclass=False,\\\n",
    "                AgeClassPerCut4Bins=True,\\\n",
    "                AgeClassPerQCut4Quartiles=True,\\\n",
    "                AgeClassPerFaixaEtaria=True,\\\n",
    "                AgeClassPerChuto=True\\\n",
    "               )\n",
    "# segura esse combo de lists\n",
    "features_columns = list(list(zip(*list(features.items())))[0])\n",
    "categorical_features = list(zip(*list(features.items())))[1]\n",
    "\n",
    "train_Y = train[target_column]\n",
    "train_X = pd.get_dummies(train[features_columns])\n",
    "\n",
    "test_X = pd.get_dummies(test[features_columns])"
   ]
  },
  {
   "cell_type": "markdown",
   "metadata": {},
   "source": [
    "# Gerando evaluation set"
   ]
  },
  {
   "cell_type": "code",
   "execution_count": 35,
   "metadata": {
    "collapsed": false
   },
   "outputs": [],
   "source": [
    "eval_skf = StratifiedKFold(train_Y, random_state=1, n_folds=4)\n",
    "dev_ixs, eval_ixs = list(eval_skf)[0]"
   ]
  },
  {
   "cell_type": "code",
   "execution_count": 36,
   "metadata": {
    "collapsed": false
   },
   "outputs": [],
   "source": [
    "eval_X = train_X.loc[eval_ixs, :]\n",
    "eval_Y = train_Y.loc[eval_ixs]\n",
    "\n",
    "dev_X = train_X.loc[dev_ixs, :]\n",
    "dev_Y = train_Y.loc[dev_ixs]"
   ]
  },
  {
   "cell_type": "markdown",
   "metadata": {},
   "source": [
    "# treinando"
   ]
  },
  {
   "cell_type": "code",
   "execution_count": 71,
   "metadata": {
    "collapsed": false
   },
   "outputs": [
    {
     "data": {
      "text/plain": [
       "GridSearchCV(cv=3, error_score='raise',\n",
       "       estimator=RandomForestClassifier(bootstrap=True, class_weight=None, criterion='gini',\n",
       "            max_depth=None, max_features='auto', max_leaf_nodes=None,\n",
       "            min_samples_leaf=1, min_samples_split=2,\n",
       "            min_weight_fraction_leaf=0.0, n_estimators=10, n_jobs=1,\n",
       "            oob_score=False, random_state=1, verbose=0, warm_start=False),\n",
       "       fit_params={}, iid=True, n_jobs=1,\n",
       "       param_grid={'n_estimators': [50, 100, 200], 'min_samples_split': [3, 5, 10], 'criterion': ['gini', 'entropy'], 'min_samples_leaf': [3, 5, 10]},\n",
       "       pre_dispatch='2*n_jobs', refit=True, scoring=None, verbose=0)"
      ]
     },
     "execution_count": 71,
     "metadata": {},
     "output_type": "execute_result"
    }
   ],
   "source": [
    "rf = RandomForestClassifier(random_state=1)\n",
    "param_grid = {\"n_estimators\": [50, 100, 200],\\\n",
    "              \"min_samples_split\": [3, 5, 10],\\\n",
    "              \"min_samples_leaf\": [3, 5, 10],\\\n",
    "              \"criterion\": ['gini', 'entropy']}\n",
    "\n",
    "cv = GridSearchCV(rf, param_grid=param_grid, cv=3)\n",
    "\n",
    "cv.fit(dev_X, dev_Y)"
   ]
  },
  {
   "cell_type": "code",
   "execution_count": 60,
   "metadata": {
    "collapsed": false
   },
   "outputs": [
    {
     "data": {
      "text/plain": [
       "GridSearchCV(cv=sklearn.cross_validation.StratifiedKFold(labels=[0 0 ..., 1 0], n_folds=3, shuffle=False, random_state=1),\n",
       "       error_score='raise',\n",
       "       estimator=Pipeline(steps=[('anova', SelectKBest(k=20, score_func=<function f_regression at 0x00000061E45D6EA0>)), ('voting', VotingClassifier(estimators=[('rf1', RandomForestClassifier(bootstrap=True, class_weight=None, criterion='gini',\n",
       "            max_depth=None, max_features='auto', max_leaf_nodes=None,\n",
       "           ...subsample=1.0, verbose=0,\n",
       "              warm_start=False))],\n",
       "         voting='hard', weights=None))]),\n",
       "       fit_params={}, iid=True, n_jobs=1,\n",
       "       param_grid={'voting__rf2__criterion': ['gini'], 'voting__rf1__min_samples_split': [10], 'voting__gb__n_estimators': [100, 500], 'voting__rf2__min_samples_leaf': [3, 5], 'voting__rf2__n_estimators': [10, 50], 'voting__rf1__n_estimators': [100], 'voting__rf1__min_samples_leaf': [10], 'voting__rf2__min_samples_split': [3, 5], 'voting__rf1__criterion': ['entropy'], 'voting__gb__learning_rate': [0.1, 0.05]},\n",
       "       pre_dispatch='2*n_jobs', refit=True, scoring=None, verbose=0)"
      ]
     },
     "execution_count": 60,
     "metadata": {},
     "output_type": "execute_result"
    }
   ],
   "source": [
    "# usando get_dummies do pandas...\n",
    "# TODO: adicionar as funções de transformação do passo anterior à pipeline\n",
    "enc = OneHotEncoder(sparse=False, categorical_features=categorical_features)\n",
    "anova_filter = SelectKBest(f_regression, k=20)\n",
    "rf = RandomForestClassifier(random_state=1)\n",
    "rf1 = RandomForestClassifier(random_state=1)\n",
    "rf2 = RandomForestClassifier(random_state=1)\n",
    "gb = GradientBoostingClassifier(random_state=1)\n",
    "voting = VotingClassifier([(\"rf1\", rf1), (\"rf2\", rf2), (\"gb\", gb)])\n",
    "\n",
    "skf = StratifiedKFold(dev_Y, random_state=1)\n",
    "\n",
    "anova_2rf1gb = Pipeline([\\\n",
    "                     #('hot', enc),\n",
    "                     ('anova', anova_filter),\\\n",
    "                     ('voting', voting)])\n",
    "\n",
    "\n",
    "param_grid_2rf1gb = {\"voting__rf1__n_estimators\": [100],\\\n",
    "         \"voting__rf1__min_samples_split\": [10],\\\n",
    "         \"voting__rf1__min_samples_leaf\": [10],\\\n",
    "         \"voting__rf1__criterion\": [\"entropy\"],\\\n",
    "         \"voting__rf2__n_estimators\": [10, 50],\\\n",
    "         \"voting__rf2__min_samples_split\": [3, 5],\\\n",
    "         \"voting__rf2__min_samples_leaf\": [3, 5],\\\n",
    "         \"voting__rf2__criterion\": [\"gini\"],\\\n",
    "         \"voting__gb__learning_rate\": [0.1, 0.05],\\\n",
    "         \"voting__gb__n_estimators\": [100, 500]\n",
    "             }\n",
    "\n",
    "\n",
    "cv_2rf1gb = GridSearchCV(anova_2rf1gb, param_grid=param_grid_2rf1gb, cv=skf)\n",
    "\n",
    "cv_2rf1gb.fit(dev_X, dev_Y)"
   ]
  },
  {
   "cell_type": "markdown",
   "metadata": {},
   "source": [
    "# analisando desempenho no evaluation set"
   ]
  },
  {
   "cell_type": "code",
   "execution_count": 72,
   "metadata": {
    "collapsed": false
   },
   "outputs": [
    {
     "name": "stdout",
     "output_type": "stream",
     "text": [
      "             precision    recall  f1-score   support\n",
      "\n",
      "          0       0.96      0.99      0.98       138\n",
      "          1       0.99      0.94      0.96        86\n",
      "\n",
      "avg / total       0.97      0.97      0.97       224\n",
      "\n"
     ]
    }
   ],
   "source": [
    "print(classification_report(eval_Y, cv.predict(eval_X)))"
   ]
  },
  {
   "cell_type": "code",
   "execution_count": 73,
   "metadata": {
    "collapsed": false
   },
   "outputs": [
    {
     "data": {
      "text/plain": [
       "{'criterion': 'gini',\n",
       " 'min_samples_leaf': 3,\n",
       " 'min_samples_split': 3,\n",
       " 'n_estimators': 100}"
      ]
     },
     "execution_count": 73,
     "metadata": {},
     "output_type": "execute_result"
    }
   ],
   "source": [
    "cv.best_params_"
   ]
  },
  {
   "cell_type": "markdown",
   "metadata": {},
   "source": [
    "# predizendo"
   ]
  },
  {
   "cell_type": "code",
   "execution_count": 74,
   "metadata": {
    "collapsed": false
   },
   "outputs": [
    {
     "data": {
      "text/plain": [
       "GridSearchCV(cv=3, error_score='raise',\n",
       "       estimator=RandomForestClassifier(bootstrap=True, class_weight=None, criterion='gini',\n",
       "            max_depth=None, max_features='auto', max_leaf_nodes=None,\n",
       "            min_samples_leaf=1, min_samples_split=2,\n",
       "            min_weight_fraction_leaf=0.0, n_estimators=10, n_jobs=1,\n",
       "            oob_score=False, random_state=1, verbose=0, warm_start=False),\n",
       "       fit_params={}, iid=True, n_jobs=1,\n",
       "       param_grid={'n_estimators': [50, 100, 200], 'min_samples_split': [3, 5, 10], 'criterion': ['gini', 'entropy'], 'min_samples_leaf': [3, 5, 10]},\n",
       "       pre_dispatch='2*n_jobs', refit=True, scoring=None, verbose=0)"
      ]
     },
     "execution_count": 74,
     "metadata": {},
     "output_type": "execute_result"
    }
   ],
   "source": [
    "cv.fit(train_X, train_Y)"
   ]
  },
  {
   "cell_type": "code",
   "execution_count": 75,
   "metadata": {
    "collapsed": false
   },
   "outputs": [],
   "source": [
    "test_X.Fare.fillna(train_X.Fare.mean(), inplace=True)"
   ]
  },
  {
   "cell_type": "code",
   "execution_count": 76,
   "metadata": {
    "collapsed": false
   },
   "outputs": [],
   "source": [
    "predictions = cv.predict(test_X)\n",
    "\n",
    "submission = pd.DataFrame({target_column: predictions, id_column: test[id_column]})\n",
    "\n",
    "submission.to_csv(\"../submissions/Migrando do PDI pro python v2.csv\", index=False)"
   ]
  },
  {
   "cell_type": "code",
   "execution_count": null,
   "metadata": {
    "collapsed": true
   },
   "outputs": [],
   "source": []
  }
 ],
 "metadata": {
  "kernelspec": {
   "display_name": "Python 3",
   "language": "python",
   "name": "python3"
  },
  "language_info": {
   "codemirror_mode": {
    "name": "ipython",
    "version": 3
   },
   "file_extension": ".py",
   "mimetype": "text/x-python",
   "name": "python",
   "nbconvert_exporter": "python",
   "pygments_lexer": "ipython3",
   "version": "3.5.1"
  }
 },
 "nbformat": 4,
 "nbformat_minor": 0
}
