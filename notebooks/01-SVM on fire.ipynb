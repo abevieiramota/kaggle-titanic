{
 "metadata": {
  "name": "",
  "signature": "sha256:09b580aab68194f03d127ed0d27b1af4369524feab18c4ea83e774657e57d504"
 },
 "nbformat": 3,
 "nbformat_minor": 0,
 "worksheets": [
  {
   "cells": [
    {
     "cell_type": "code",
     "collapsed": false,
     "input": [
      "from sklearn.svm import SVC\n",
      "import pandas as pd\n",
      "from sklearn.cross_validation import cross_val_score"
     ],
     "language": "python",
     "metadata": {},
     "outputs": [],
     "prompt_number": 21
    },
    {
     "cell_type": "code",
     "collapsed": false,
     "input": [
      "dados = pd.read_csv('data/train.csv')"
     ],
     "language": "python",
     "metadata": {},
     "outputs": [],
     "prompt_number": 11
    },
    {
     "cell_type": "code",
     "collapsed": false,
     "input": [
      "dados.columns"
     ],
     "language": "python",
     "metadata": {},
     "outputs": [
      {
       "metadata": {},
       "output_type": "pyout",
       "prompt_number": 12,
       "text": [
        "Index([u'PassengerId', u'Survived', u'Pclass', u'Name', u'Sex', u'Age', u'SibSp', u'Parch', u'Ticket', u'Fare', u'Cabin', u'Embarked'], dtype='object')"
       ]
      }
     ],
     "prompt_number": 12
    },
    {
     "cell_type": "code",
     "collapsed": false,
     "input": [
      "columns = ['SibSp', 'Parch', 'Fare']\n",
      "columns_2a2 = [(columns[i], columns[j]) for i in xrange(len(columns) - 1) for j in xrange(i+1, len(columns))]\n",
      "y = dados.Survived\n",
      "\n",
      "for c1, c2, in columns_2a2:\n",
      "    X = dados[[c1, c2]]\n",
      "    model = SVC()\n",
      "    print c1, c2, cross_val_score(model, X, y, cv=5)\n",
      "\n",
      "X = dados[columns]\n",
      "model = SVC()\n",
      "print columns, cross_val_score(model, X, y, cv=5)"
     ],
     "language": "python",
     "metadata": {},
     "outputs": [
      {
       "output_type": "stream",
       "stream": "stdout",
       "text": [
        "SibSp Parch "
       ]
      },
      {
       "output_type": "stream",
       "stream": "stdout",
       "text": [
        "[ 0.69273743  0.64606742  0.60674157  0.66292135  0.63483146]\n",
        "SibSp Fare "
       ]
      },
      {
       "output_type": "stream",
       "stream": "stdout",
       "text": [
        "[ 0.67597765  0.67977528  0.6741573   0.6741573   0.6741573 ]\n",
        "Parch Fare "
       ]
      },
      {
       "output_type": "stream",
       "stream": "stdout",
       "text": [
        "[ 0.7150838   0.66292135  0.69101124  0.67977528  0.67977528]\n",
        "['SibSp', 'Parch', 'Fare'] "
       ]
      },
      {
       "output_type": "stream",
       "stream": "stdout",
       "text": [
        "[ 0.69273743  0.66292135  0.68539326  0.6741573   0.66292135]\n"
       ]
      }
     ],
     "prompt_number": 28
    },
    {
     "cell_type": "code",
     "collapsed": false,
     "input": [],
     "language": "python",
     "metadata": {},
     "outputs": []
    }
   ],
   "metadata": {}
  }
 ]
}